{
 "cells": [
  {
   "cell_type": "code",
   "execution_count": 2,
   "metadata": {},
   "outputs": [],
   "source": [
    "import pandas as pd"
   ]
  },
  {
   "cell_type": "code",
   "execution_count": 49,
   "metadata": {},
   "outputs": [],
   "source": [
    "dataFrame = pd.read_excel(\"week2.xlsx\")"
   ]
  },
  {
   "cell_type": "code",
   "execution_count": 38,
   "metadata": {},
   "outputs": [
    {
     "name": "stdout",
     "output_type": "stream",
     "text": [
      "{33626320676.0: 18, 33625779332.0: 17, 33614892860.0: 17, 33659725664.0: 16, 33675877202.0: 15}\n"
     ]
    }
   ],
   "source": [
    "sessionsCountData=dataFrame['MSISDN/Number'].value_counts().head()\n",
    "\n",
    "sessionsCount=sessionsCountData.values.tolist()\n",
    "\n",
    "msisdn=sessionsCountData.index.values\n",
    "\n",
    "sessionPerUserDictionary = dict(zip(msisdn, sessionsCount))\n",
    "\n",
    "print(sessionPerUserDictionary)"
   ]
  },
  {
   "cell_type": "code",
   "execution_count": 39,
   "metadata": {},
   "outputs": [
    {
     "data": {
      "text/plain": [
       "MSISDN/Number\n",
       "3.360100e+10     138.0\n",
       "3.360100e+10     422.0\n",
       "3.360100e+10      80.0\n",
       "3.360101e+10     158.0\n",
       "3.360101e+10    1297.0\n",
       "                 ...  \n",
       "3.379000e+10     829.0\n",
       "3.379000e+10     846.0\n",
       "3.197021e+12     345.0\n",
       "3.370000e+14     811.0\n",
       "8.823971e+14     259.0\n",
       "Name: Start ms, Length: 106856, dtype: float64"
      ]
     },
     "execution_count": 39,
     "metadata": {},
     "output_type": "execute_result"
    }
   ],
   "source": [
    "dataFrame.groupby('MSISDN/Number')['Start ms'].sum()"
   ]
  },
  {
   "cell_type": "code",
   "execution_count": 59,
   "metadata": {},
   "outputs": [
    {
     "data": {
      "text/plain": [
       "array([8.78690574e+08, 1.56859643e+08, 5.95966483e+08, ...,\n",
       "       2.32123971e+08, 5.96287824e+08, 1.39153646e+08])"
      ]
     },
     "execution_count": 59,
     "metadata": {},
     "output_type": "execute_result"
    }
   ],
   "source": [
    "dataFrame=dataFrame.rename(columns = {'Total DL (Bytes)' : 'totalDL','Total UL (Bytes)' : 'totalUL'})\n",
    "sum_column = dataFrame[\"totalUL\"] + dataFrame[\"totalDL\"]\n",
    "dataFrame[\"dataSum\"] = sum_column\n",
    "totalDataDF=dataFrame.groupby('MSISDN/Number')['dataSum'].sum()\n",
    "totalDataValues = totalDataDF.values\n",
    "msisdn=totalDataDF.index.values\n",
    "\n",
    "sessionPerUserDictionary = dict(zip(msisdn, sessionsCount))\n"
   ]
  },
  {
   "cell_type": "code",
   "execution_count": null,
   "metadata": {},
   "outputs": [],
   "source": []
  }
 ],
 "metadata": {
  "kernelspec": {
   "display_name": "Python 3",
   "language": "python",
   "name": "python3"
  },
  "language_info": {
   "codemirror_mode": {
    "name": "ipython",
    "version": 3
   },
   "file_extension": ".py",
   "mimetype": "text/x-python",
   "name": "python",
   "nbconvert_exporter": "python",
   "pygments_lexer": "ipython3",
   "version": "3.7.6"
  }
 },
 "nbformat": 4,
 "nbformat_minor": 4
}
