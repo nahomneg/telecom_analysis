{
 "cells": [
  {
   "cell_type": "code",
   "execution_count": 1,
   "metadata": {},
   "outputs": [],
   "source": [
    "import pandas as pd\n",
    "import seaborn as sb\n",
    "import matplotlib.pyplot as plt\n",
    "import numpy as np\n",
    "%matplotlib inline\n"
   ]
  },
  {
   "cell_type": "code",
   "execution_count": 2,
   "metadata": {},
   "outputs": [],
   "source": [
    "dataFrame = pd.read_excel(\"../week2.xlsx\")"
   ]
  },
  {
   "cell_type": "code",
   "execution_count": 3,
   "metadata": {},
   "outputs": [],
   "source": [
    "dataFrame=dataFrame.rename(columns = {'Total DL (Bytes)' : 'totalDL','Total UL (Bytes)' : 'totalUL','Dur. (ms)' : 'dur','MSISDN/Number':'msisdn','Last Location Name':'location','Handset Manufacturer':'manufacturer','Handset Type':'handset'})\n",
    "\n",
    "# get total data transferred for each application\n",
    "google = dataFrame['Google DL (Bytes)']+ dataFrame['Google UL (Bytes)']\n",
    "email = dataFrame['Email DL (Bytes)']+ dataFrame['Email UL (Bytes)']\n",
    "gaming = dataFrame['Gaming DL (Bytes)']+ dataFrame['Gaming UL (Bytes)']\n",
    "youtube = dataFrame['Youtube DL (Bytes)']+ dataFrame['Youtube UL (Bytes)']\n",
    "netflix = dataFrame['Netflix DL (Bytes)']+ dataFrame['Netflix UL (Bytes)']\n",
    "social = dataFrame['Social Media DL (Bytes)']+ dataFrame['Social Media UL (Bytes)']\n",
    "\n",
    "dataFrame['google']=google\n",
    "dataFrame['email']=email\n",
    "dataFrame['gaming']=gaming\n",
    "dataFrame['youtube']=youtube\n",
    "dataFrame['netflix']=netflix\n",
    "dataFrame['social']=social\n",
    "\n",
    "\n",
    "relevantDataFrame = dataFrame[['msisdn','dur','totalDL','totalUL','google','email','gaming','youtube','netflix','social']]\n",
    "\n",
    "\n"
   ]
  },
  {
   "cell_type": "markdown",
   "metadata": {},
   "source": [
    "## Cleaning Data"
   ]
  },
  {
   "cell_type": "code",
   "execution_count": 4,
   "metadata": {},
   "outputs": [
    {
     "name": "stderr",
     "output_type": "stream",
     "text": [
      "C:\\ProgramData\\Anaconda3\\lib\\site-packages\\ipykernel_launcher.py:2: SettingWithCopyWarning: \n",
      "A value is trying to be set on a copy of a slice from a DataFrame.\n",
      "Try using .loc[row_indexer,col_indexer] = value instead\n",
      "\n",
      "See the caveats in the documentation: https://pandas.pydata.org/pandas-docs/stable/user_guide/indexing.html#returning-a-view-versus-a-copy\n",
      "  \n"
     ]
    },
    {
     "data": {
      "text/html": [
       "<div>\n",
       "<style scoped>\n",
       "    .dataframe tbody tr th:only-of-type {\n",
       "        vertical-align: middle;\n",
       "    }\n",
       "\n",
       "    .dataframe tbody tr th {\n",
       "        vertical-align: top;\n",
       "    }\n",
       "\n",
       "    .dataframe thead th {\n",
       "        text-align: right;\n",
       "    }\n",
       "</style>\n",
       "<table border=\"1\" class=\"dataframe\">\n",
       "  <thead>\n",
       "    <tr style=\"text-align: right;\">\n",
       "      <th></th>\n",
       "      <th>msisdn</th>\n",
       "      <th>dur</th>\n",
       "      <th>totalDL</th>\n",
       "      <th>totalUL</th>\n",
       "      <th>google</th>\n",
       "      <th>email</th>\n",
       "      <th>gaming</th>\n",
       "      <th>youtube</th>\n",
       "      <th>netflix</th>\n",
       "      <th>social</th>\n",
       "    </tr>\n",
       "  </thead>\n",
       "  <tbody>\n",
       "    <tr>\n",
       "      <th>count</th>\n",
       "      <td>1.489350e+05</td>\n",
       "      <td>150000.000000</td>\n",
       "      <td>1.500000e+05</td>\n",
       "      <td>1.500000e+05</td>\n",
       "      <td>1.500010e+05</td>\n",
       "      <td>1.500010e+05</td>\n",
       "      <td>1.500010e+05</td>\n",
       "      <td>1.500010e+05</td>\n",
       "      <td>1.500010e+05</td>\n",
       "      <td>1.500010e+05</td>\n",
       "    </tr>\n",
       "    <tr>\n",
       "      <th>mean</th>\n",
       "      <td>4.188282e+10</td>\n",
       "      <td>99786.623793</td>\n",
       "      <td>4.546434e+08</td>\n",
       "      <td>4.112121e+07</td>\n",
       "      <td>7.807295e+06</td>\n",
       "      <td>2.259102e+06</td>\n",
       "      <td>4.303331e+08</td>\n",
       "      <td>2.264348e+07</td>\n",
       "      <td>2.262861e+07</td>\n",
       "      <td>1.828250e+06</td>\n",
       "    </tr>\n",
       "    <tr>\n",
       "      <th>std</th>\n",
       "      <td>2.447443e+12</td>\n",
       "      <td>62859.909937</td>\n",
       "      <td>2.441429e+08</td>\n",
       "      <td>1.127639e+07</td>\n",
       "      <td>3.516420e+06</td>\n",
       "      <td>1.071109e+06</td>\n",
       "      <td>2.440199e+08</td>\n",
       "      <td>9.246800e+06</td>\n",
       "      <td>9.260820e+06</td>\n",
       "      <td>1.035646e+06</td>\n",
       "    </tr>\n",
       "    <tr>\n",
       "      <th>min</th>\n",
       "      <td>3.360100e+10</td>\n",
       "      <td>7142.000000</td>\n",
       "      <td>7.114041e+06</td>\n",
       "      <td>2.866892e+06</td>\n",
       "      <td>4.033000e+04</td>\n",
       "      <td>8.359000e+03</td>\n",
       "      <td>3.063580e+05</td>\n",
       "      <td>7.890300e+04</td>\n",
       "      <td>9.843200e+04</td>\n",
       "      <td>1.563000e+03</td>\n",
       "    </tr>\n",
       "    <tr>\n",
       "      <th>25%</th>\n",
       "      <td>3.365130e+10</td>\n",
       "      <td>57440.500000</td>\n",
       "      <td>2.431068e+08</td>\n",
       "      <td>3.322201e+07</td>\n",
       "      <td>4.943599e+06</td>\n",
       "      <td>1.359344e+06</td>\n",
       "      <td>2.187279e+08</td>\n",
       "      <td>1.599846e+07</td>\n",
       "      <td>1.597946e+07</td>\n",
       "      <td>9.322180e+05</td>\n",
       "    </tr>\n",
       "    <tr>\n",
       "      <th>50%</th>\n",
       "      <td>3.366371e+10</td>\n",
       "      <td>86399.000000</td>\n",
       "      <td>4.558411e+08</td>\n",
       "      <td>4.114331e+07</td>\n",
       "      <td>7.812835e+06</td>\n",
       "      <td>2.263567e+06</td>\n",
       "      <td>4.316150e+08</td>\n",
       "      <td>2.266177e+07</td>\n",
       "      <td>2.263554e+07</td>\n",
       "      <td>1.826471e+06</td>\n",
       "    </tr>\n",
       "    <tr>\n",
       "      <th>75%</th>\n",
       "      <td>3.368349e+10</td>\n",
       "      <td>129367.000000</td>\n",
       "      <td>6.657055e+08</td>\n",
       "      <td>4.903424e+07</td>\n",
       "      <td>1.068280e+07</td>\n",
       "      <td>3.159818e+06</td>\n",
       "      <td>6.414159e+08</td>\n",
       "      <td>2.929260e+07</td>\n",
       "      <td>2.929044e+07</td>\n",
       "      <td>2.727487e+06</td>\n",
       "    </tr>\n",
       "    <tr>\n",
       "      <th>max</th>\n",
       "      <td>8.823971e+14</td>\n",
       "      <td>399875.000000</td>\n",
       "      <td>9.029696e+08</td>\n",
       "      <td>7.833131e+07</td>\n",
       "      <td>1.552878e+07</td>\n",
       "      <td>4.518036e+06</td>\n",
       "      <td>8.592028e+08</td>\n",
       "      <td>4.519008e+07</td>\n",
       "      <td>4.519815e+07</td>\n",
       "      <td>3.650861e+06</td>\n",
       "    </tr>\n",
       "  </tbody>\n",
       "</table>\n",
       "</div>"
      ],
      "text/plain": [
       "             msisdn            dur       totalDL       totalUL        google  \\\n",
       "count  1.489350e+05  150000.000000  1.500000e+05  1.500000e+05  1.500010e+05   \n",
       "mean   4.188282e+10   99786.623793  4.546434e+08  4.112121e+07  7.807295e+06   \n",
       "std    2.447443e+12   62859.909937  2.441429e+08  1.127639e+07  3.516420e+06   \n",
       "min    3.360100e+10    7142.000000  7.114041e+06  2.866892e+06  4.033000e+04   \n",
       "25%    3.365130e+10   57440.500000  2.431068e+08  3.322201e+07  4.943599e+06   \n",
       "50%    3.366371e+10   86399.000000  4.558411e+08  4.114331e+07  7.812835e+06   \n",
       "75%    3.368349e+10  129367.000000  6.657055e+08  4.903424e+07  1.068280e+07   \n",
       "max    8.823971e+14  399875.000000  9.029696e+08  7.833131e+07  1.552878e+07   \n",
       "\n",
       "              email        gaming       youtube       netflix        social  \n",
       "count  1.500010e+05  1.500010e+05  1.500010e+05  1.500010e+05  1.500010e+05  \n",
       "mean   2.259102e+06  4.303331e+08  2.264348e+07  2.262861e+07  1.828250e+06  \n",
       "std    1.071109e+06  2.440199e+08  9.246800e+06  9.260820e+06  1.035646e+06  \n",
       "min    8.359000e+03  3.063580e+05  7.890300e+04  9.843200e+04  1.563000e+03  \n",
       "25%    1.359344e+06  2.187279e+08  1.599846e+07  1.597946e+07  9.322180e+05  \n",
       "50%    2.263567e+06  4.316150e+08  2.266177e+07  2.263554e+07  1.826471e+06  \n",
       "75%    3.159818e+06  6.414159e+08  2.929260e+07  2.929044e+07  2.727487e+06  \n",
       "max    4.518036e+06  8.592028e+08  4.519008e+07  4.519815e+07  3.650861e+06  "
      ]
     },
     "execution_count": 4,
     "metadata": {},
     "output_type": "execute_result"
    }
   ],
   "source": [
    "median=relevantDataFrame['dur'].median()\n",
    "relevantDataFrame[\"dur\"] = np.where(relevantDataFrame[\"dur\"] >400000, median,relevantDataFrame['dur'])\n",
    "\n",
    "relevantDataFrame.describe()"
   ]
  },
  {
   "cell_type": "markdown",
   "metadata": {},
   "source": [
    "### From the above we can see that\n",
    "1. Users download more than they upload\n",
    "2. Users have a similar demand to upload than to download ( upload has less standard deviation )\n",
    "3. Users of the service spend more on gaming applications\n"
   ]
  },
  {
   "cell_type": "code",
   "execution_count": 5,
   "metadata": {},
   "outputs": [
    {
     "data": {
      "text/plain": [
       "Text(0.5, 0, 'Duration (ms)')"
      ]
     },
     "execution_count": 5,
     "metadata": {},
     "output_type": "execute_result"
    },
    {
     "data": {
      "image/png": "[encoded data removed]",
      "text/plain": [
       "<Figure size 432x288 with 1 Axes>"
      ]
     },
     "metadata": {
      "needs_background": "light"
     },
     "output_type": "display_data"
    }
   ],
   "source": [
    "ax=relevantDataFrame['dur'].plot.density(ind=50)\n",
    "ax.set_xlabel('Duration (ms)')\n",
    "#sb.distplot(relevantDataFrame, hist=False)\n"
   ]
  },
  {
   "cell_type": "markdown",
   "metadata": {},
   "source": [
    "## The above density plot shows that most of the sessions last between 0 and 25000000ms "
   ]
  },
  {
   "cell_type": "code",
   "execution_count": 6,
   "metadata": {},
   "outputs": [
    {
     "data": {
      "image/png": "[encoded data removed]",
      "text/plain": [
       "<Figure size 432x288 with 1 Axes>"
      ]
     },
     "metadata": {
      "needs_background": "light"
     },
     "output_type": "display_data"
    }
   ],
   "source": [
    "ax= relevantDataFrame['gaming'].plot.hist(alpha=0.5)"
   ]
  },
  {
   "cell_type": "code",
   "execution_count": 7,
   "metadata": {
    "scrolled": true
   },
   "outputs": [
    {
     "data": {
      "text/plain": [
       "<matplotlib.axes._subplots.AxesSubplot at 0x1c4cf96af08>"
      ]
     },
     "execution_count": 7,
     "metadata": {},
     "output_type": "execute_result"
    },
    {
     "data": {
      "image/png": "[encoded data removed]",
      "text/plain": [
       "<Figure size 432x288 with 1 Axes>"
      ]
     },
     "metadata": {
      "needs_background": "light"
     },
     "output_type": "display_data"
    }
   ],
   "source": [
    "relevantDataFrame['email'].plot.hist()"
   ]
  },
  {
   "cell_type": "markdown",
   "metadata": {},
   "source": [
    "## The above two graphs explain email consumes data transfers that are simmilar accross many sessions, but the data consumed by gaming seems to vary more"
   ]
  },
  {
   "cell_type": "code",
   "execution_count": 8,
   "metadata": {},
   "outputs": [
    {
     "data": {
      "text/plain": [
       "<matplotlib.axes._subplots.AxesSubplot at 0x1c4e0b6f4c8>"
      ]
     },
     "execution_count": 8,
     "metadata": {},
     "output_type": "execute_result"
    },
    {
     "data": {
      "image/png": "[encoded data removed]",
      "text/plain": [
       "<Figure size 432x288 with 1 Axes>"
      ]
     },
     "metadata": {
      "needs_background": "light"
     },
     "output_type": "display_data"
    }
   ],
   "source": [
    "#sum_column = dataFrame[\"totalUL\"] + dataFrame[\"totalDL\"]\n",
    "relevantDataFrame[['youtube','gaming','email','netflix','social']].sum().plot(kind='bar')"
   ]
  },
  {
   "cell_type": "markdown",
   "metadata": {},
   "source": [
    "## The above plot confirms user spend the most on gaming."
   ]
  },
  {
   "cell_type": "code",
   "execution_count": 9,
   "metadata": {},
   "outputs": [
    {
     "name": "stderr",
     "output_type": "stream",
     "text": [
      "C:\\ProgramData\\Anaconda3\\lib\\site-packages\\ipykernel_launcher.py:2: SettingWithCopyWarning: \n",
      "A value is trying to be set on a copy of a slice from a DataFrame.\n",
      "Try using .loc[row_indexer,col_indexer] = value instead\n",
      "\n",
      "See the caveats in the documentation: https://pandas.pydata.org/pandas-docs/stable/user_guide/indexing.html#returning-a-view-versus-a-copy\n",
      "  \n",
      "C:\\ProgramData\\Anaconda3\\lib\\site-packages\\ipykernel_launcher.py:4: SettingWithCopyWarning: \n",
      "A value is trying to be set on a copy of a slice from a DataFrame.\n",
      "Try using .loc[row_indexer,col_indexer] = value instead\n",
      "\n",
      "See the caveats in the documentation: https://pandas.pydata.org/pandas-docs/stable/user_guide/indexing.html#returning-a-view-versus-a-copy\n",
      "  after removing the cwd from sys.path.\n"
     ]
    },
    {
     "data": {
      "text/plain": [
       "Text(0, 0.5, 'Data Transfers')"
      ]
     },
     "execution_count": 9,
     "metadata": {},
     "output_type": "execute_result"
    },
    {
     "data": {
      "image/png": "[encoded data removed]",
      "text/plain": [
       "<Figure size 432x288 with 1 Axes>"
      ]
     },
     "metadata": {
      "needs_background": "light"
     },
     "output_type": "display_data"
    }
   ],
   "source": [
    "sum_column = dataFrame[\"totalUL\"] + dataFrame[\"totalDL\"]\n",
    "relevantDataFrame['totalData']=sum_column\n",
    "\n",
    "relevantDataFrame['decile'] = pd.qcut(relevantDataFrame['dur'],11,duplicates='drop')\n",
    "ax=relevantDataFrame.groupby('decile')['totalData'].sum().sort_values(ascending=False).tail(5).plot(kind='bar',xticks=[0,1,2,3,4])\n",
    "ax.set_xticklabels(['First','Second','Third','Fourth','Fifth'])\n",
    "ax.set_ylabel('Data Transfers')"
   ]
  },
  {
   "cell_type": "markdown",
   "metadata": {},
   "source": [
    "## The above code first segments the users into 10 fractions based on durations of the sessions. Then it counts the total data transferred in each decile and plot the top 5"
   ]
  },
  {
   "cell_type": "code",
   "execution_count": 10,
   "metadata": {},
   "outputs": [
    {
     "data": {
      "text/html": [
       "<div>\n",
       "<style scoped>\n",
       "    .dataframe tbody tr th:only-of-type {\n",
       "        vertical-align: middle;\n",
       "    }\n",
       "\n",
       "    .dataframe tbody tr th {\n",
       "        vertical-align: top;\n",
       "    }\n",
       "\n",
       "    .dataframe thead th {\n",
       "        text-align: right;\n",
       "    }\n",
       "</style>\n",
       "<table border=\"1\" class=\"dataframe\">\n",
       "  <thead>\n",
       "    <tr style=\"text-align: right;\">\n",
       "      <th></th>\n",
       "      <th>email</th>\n",
       "      <th>gaming</th>\n",
       "      <th>youtube</th>\n",
       "      <th>social</th>\n",
       "      <th>netflix</th>\n",
       "    </tr>\n",
       "  </thead>\n",
       "  <tbody>\n",
       "    <tr>\n",
       "      <th>email</th>\n",
       "      <td>1.000000</td>\n",
       "      <td>-0.000644</td>\n",
       "      <td>-0.002919</td>\n",
       "      <td>0.004032</td>\n",
       "      <td>0.001029</td>\n",
       "    </tr>\n",
       "    <tr>\n",
       "      <th>gaming</th>\n",
       "      <td>-0.000644</td>\n",
       "      <td>1.000000</td>\n",
       "      <td>-0.002999</td>\n",
       "      <td>0.001082</td>\n",
       "      <td>-0.003109</td>\n",
       "    </tr>\n",
       "    <tr>\n",
       "      <th>youtube</th>\n",
       "      <td>-0.002919</td>\n",
       "      <td>-0.002999</td>\n",
       "      <td>1.000000</td>\n",
       "      <td>0.000548</td>\n",
       "      <td>0.002882</td>\n",
       "    </tr>\n",
       "    <tr>\n",
       "      <th>social</th>\n",
       "      <td>0.004032</td>\n",
       "      <td>0.001082</td>\n",
       "      <td>0.000548</td>\n",
       "      <td>1.000000</td>\n",
       "      <td>0.001013</td>\n",
       "    </tr>\n",
       "    <tr>\n",
       "      <th>netflix</th>\n",
       "      <td>0.001029</td>\n",
       "      <td>-0.003109</td>\n",
       "      <td>0.002882</td>\n",
       "      <td>0.001013</td>\n",
       "      <td>1.000000</td>\n",
       "    </tr>\n",
       "  </tbody>\n",
       "</table>\n",
       "</div>"
      ],
      "text/plain": [
       "            email    gaming   youtube    social   netflix\n",
       "email    1.000000 -0.000644 -0.002919  0.004032  0.001029\n",
       "gaming  -0.000644  1.000000 -0.002999  0.001082 -0.003109\n",
       "youtube -0.002919 -0.002999  1.000000  0.000548  0.002882\n",
       "social   0.004032  0.001082  0.000548  1.000000  0.001013\n",
       "netflix  0.001029 -0.003109  0.002882  0.001013  1.000000"
      ]
     },
     "execution_count": 10,
     "metadata": {},
     "output_type": "execute_result"
    }
   ],
   "source": [
    "relevantDataFrame[['email','gaming','youtube','social','netflix']].corr(method ='pearson') "
   ]
  },
  {
   "cell_type": "markdown",
   "metadata": {},
   "source": [
    "## From the above correlation matrix we can conclude :\n",
    "\n",
    "1. social media and email are more correlated than others. ( Social media users also use email )\n",
    "2. The correlation b/n youtube and email, netflix and email have relatively higher negative correlation (Entertainement users tend to use email occasionally)"
   ]
  },
  {
   "cell_type": "code",
   "execution_count": 18,
   "metadata": {},
   "outputs": [
    {
     "name": "stderr",
     "output_type": "stream",
     "text": [
      "C:\\ProgramData\\Anaconda3\\lib\\site-packages\\ipykernel_launcher.py:2: SettingWithCopyWarning: \n",
      "A value is trying to be set on a copy of a slice from a DataFrame.\n",
      "Try using .loc[row_indexer,col_indexer] = value instead\n",
      "\n",
      "See the caveats in the documentation: https://pandas.pydata.org/pandas-docs/stable/user_guide/indexing.html#returning-a-view-versus-a-copy\n",
      "  \n"
     ]
    }
   ],
   "source": [
    "relevantDataFrame = dataFrame[['msisdn','dur','totalDL','totalUL','google','email','gaming','youtube','netflix','social']]\n",
    "relevantDataFrame['totalAppData'] = relevantDataFrame['google'] + relevantDataFrame['youtube'] +relevantDataFrame['email']+relevantDataFrame['netflix']\n",
    "\n",
    "\n",
    "# add satisfaction column to a dataframe \n",
    "# ( Satisfaction is just an arbitrary class based on totalAppData, just to show Principal column analysis)\n",
    "def addSatisfactionLevel(row):\n",
    "    \n",
    "    if 55338486 <row['totalAppData']:\n",
    "        val = 'First Class'\n",
    "    elif 7432209.0 < row['totalAppData'] <55338486:\n",
    "        val = 'Second Class'\n",
    "    else: \n",
    "        val='N/A'\n",
    "    return val\n"
   ]
  },
  {
   "cell_type": "markdown",
   "metadata": {},
   "source": [
    "## Below we insert a categorical column named satisfaction ( just for illustration purpose ) which has 2 classes. First class and Second class based on the total amount of data transferred for each user."
   ]
  },
  {
   "cell_type": "code",
   "execution_count": 19,
   "metadata": {},
   "outputs": [
    {
     "data": {
      "text/html": [
       "<div>\n",
       "<style scoped>\n",
       "    .dataframe tbody tr th:only-of-type {\n",
       "        vertical-align: middle;\n",
       "    }\n",
       "\n",
       "    .dataframe tbody tr th {\n",
       "        vertical-align: top;\n",
       "    }\n",
       "\n",
       "    .dataframe thead th {\n",
       "        text-align: right;\n",
       "    }\n",
       "</style>\n",
       "<table border=\"1\" class=\"dataframe\">\n",
       "  <thead>\n",
       "    <tr style=\"text-align: right;\">\n",
       "      <th></th>\n",
       "      <th>msisdn</th>\n",
       "      <th>dur</th>\n",
       "      <th>totalDL</th>\n",
       "      <th>totalUL</th>\n",
       "      <th>google</th>\n",
       "      <th>email</th>\n",
       "      <th>gaming</th>\n",
       "      <th>youtube</th>\n",
       "      <th>netflix</th>\n",
       "      <th>social</th>\n",
       "      <th>totalAppData</th>\n",
       "      <th>Satisfaction</th>\n",
       "    </tr>\n",
       "  </thead>\n",
       "  <tbody>\n",
       "    <tr>\n",
       "      <th>0</th>\n",
       "      <td>3.366496e+10</td>\n",
       "      <td>1823652.0</td>\n",
       "      <td>308879636.0</td>\n",
       "      <td>36749741.0</td>\n",
       "      <td>2905912.0</td>\n",
       "      <td>3701304.0</td>\n",
       "      <td>292426453.0</td>\n",
       "      <td>18355943.0</td>\n",
       "      <td>17855187.0</td>\n",
       "      <td>1570185.0</td>\n",
       "      <td>42818346.0</td>\n",
       "      <td>Second Class</td>\n",
       "    </tr>\n",
       "    <tr>\n",
       "      <th>1</th>\n",
       "      <td>3.368185e+10</td>\n",
       "      <td>1365104.0</td>\n",
       "      <td>653384965.0</td>\n",
       "      <td>53800391.0</td>\n",
       "      <td>4414096.0</td>\n",
       "      <td>937385.0</td>\n",
       "      <td>609920783.0</td>\n",
       "      <td>39359124.0</td>\n",
       "      <td>35565545.0</td>\n",
       "      <td>1933278.0</td>\n",
       "      <td>80276150.0</td>\n",
       "      <td>First Class</td>\n",
       "    </tr>\n",
       "    <tr>\n",
       "      <th>2</th>\n",
       "      <td>3.376063e+10</td>\n",
       "      <td>1361762.0</td>\n",
       "      <td>279807335.0</td>\n",
       "      <td>27883638.0</td>\n",
       "      <td>10229119.0</td>\n",
       "      <td>3363124.0</td>\n",
       "      <td>229980251.0</td>\n",
       "      <td>34425237.0</td>\n",
       "      <td>23751202.0</td>\n",
       "      <td>1726277.0</td>\n",
       "      <td>71768682.0</td>\n",
       "      <td>First Class</td>\n",
       "    </tr>\n",
       "    <tr>\n",
       "      <th>3</th>\n",
       "      <td>3.375034e+10</td>\n",
       "      <td>1321509.0</td>\n",
       "      <td>846028530.0</td>\n",
       "      <td>43324218.0</td>\n",
       "      <td>11811761.0</td>\n",
       "      <td>2070983.0</td>\n",
       "      <td>810387875.0</td>\n",
       "      <td>36534765.0</td>\n",
       "      <td>15092588.0</td>\n",
       "      <td>657493.0</td>\n",
       "      <td>65510097.0</td>\n",
       "      <td>First Class</td>\n",
       "    </tr>\n",
       "    <tr>\n",
       "      <th>4</th>\n",
       "      <td>3.369980e+10</td>\n",
       "      <td>1089009.0</td>\n",
       "      <td>569138589.0</td>\n",
       "      <td>38542814.0</td>\n",
       "      <td>7748843.0</td>\n",
       "      <td>2110349.0</td>\n",
       "      <td>531237049.0</td>\n",
       "      <td>34222253.0</td>\n",
       "      <td>17539799.0</td>\n",
       "      <td>912788.0</td>\n",
       "      <td>61621244.0</td>\n",
       "      <td>First Class</td>\n",
       "    </tr>\n",
       "    <tr>\n",
       "      <th>5</th>\n",
       "      <td>3.366819e+10</td>\n",
       "      <td>1074638.0</td>\n",
       "      <td>754452212.0</td>\n",
       "      <td>30307754.0</td>\n",
       "      <td>12934133.0</td>\n",
       "      <td>2902410.0</td>\n",
       "      <td>723461512.0</td>\n",
       "      <td>23944031.0</td>\n",
       "      <td>13881809.0</td>\n",
       "      <td>3200014.0</td>\n",
       "      <td>53662383.0</td>\n",
       "      <td>Second Class</td>\n",
       "    </tr>\n",
       "    <tr>\n",
       "      <th>6</th>\n",
       "      <td>3.366537e+10</td>\n",
       "      <td>1035261.0</td>\n",
       "      <td>70562047.0</td>\n",
       "      <td>47925246.0</td>\n",
       "      <td>4906872.0</td>\n",
       "      <td>2090979.0</td>\n",
       "      <td>58881157.0</td>\n",
       "      <td>9120760.0</td>\n",
       "      <td>31212766.0</td>\n",
       "      <td>1624991.0</td>\n",
       "      <td>47331377.0</td>\n",
       "      <td>Second Class</td>\n",
       "    </tr>\n",
       "    <tr>\n",
       "      <th>7</th>\n",
       "      <td>3.376349e+10</td>\n",
       "      <td>951292.0</td>\n",
       "      <td>775350343.0</td>\n",
       "      <td>58813016.0</td>\n",
       "      <td>3872713.0</td>\n",
       "      <td>3500104.0</td>\n",
       "      <td>765055811.0</td>\n",
       "      <td>31924969.0</td>\n",
       "      <td>18933702.0</td>\n",
       "      <td>3161403.0</td>\n",
       "      <td>58231488.0</td>\n",
       "      <td>First Class</td>\n",
       "    </tr>\n",
       "    <tr>\n",
       "      <th>8</th>\n",
       "      <td>3.369874e+10</td>\n",
       "      <td>941634.0</td>\n",
       "      <td>861612261.0</td>\n",
       "      <td>42363146.0</td>\n",
       "      <td>8902099.0</td>\n",
       "      <td>3380069.0</td>\n",
       "      <td>828219634.0</td>\n",
       "      <td>29297508.0</td>\n",
       "      <td>19054441.0</td>\n",
       "      <td>372625.0</td>\n",
       "      <td>60634117.0</td>\n",
       "      <td>First Class</td>\n",
       "    </tr>\n",
       "    <tr>\n",
       "      <th>9</th>\n",
       "      <td>3.365922e+10</td>\n",
       "      <td>864482.0</td>\n",
       "      <td>850570347.0</td>\n",
       "      <td>22417975.0</td>\n",
       "      <td>8778341.0</td>\n",
       "      <td>766046.0</td>\n",
       "      <td>812946425.0</td>\n",
       "      <td>22911539.0</td>\n",
       "      <td>13185350.0</td>\n",
       "      <td>1585413.0</td>\n",
       "      <td>45641276.0</td>\n",
       "      <td>Second Class</td>\n",
       "    </tr>\n",
       "  </tbody>\n",
       "</table>\n",
       "</div>"
      ],
      "text/plain": [
       "         msisdn        dur      totalDL     totalUL      google      email  \\\n",
       "0  3.366496e+10  1823652.0  308879636.0  36749741.0   2905912.0  3701304.0   \n",
       "1  3.368185e+10  1365104.0  653384965.0  53800391.0   4414096.0   937385.0   \n",
       "2  3.376063e+10  1361762.0  279807335.0  27883638.0  10229119.0  3363124.0   \n",
       "3  3.375034e+10  1321509.0  846028530.0  43324218.0  11811761.0  2070983.0   \n",
       "4  3.369980e+10  1089009.0  569138589.0  38542814.0   7748843.0  2110349.0   \n",
       "5  3.366819e+10  1074638.0  754452212.0  30307754.0  12934133.0  2902410.0   \n",
       "6  3.366537e+10  1035261.0   70562047.0  47925246.0   4906872.0  2090979.0   \n",
       "7  3.376349e+10   951292.0  775350343.0  58813016.0   3872713.0  3500104.0   \n",
       "8  3.369874e+10   941634.0  861612261.0  42363146.0   8902099.0  3380069.0   \n",
       "9  3.365922e+10   864482.0  850570347.0  22417975.0   8778341.0   766046.0   \n",
       "\n",
       "        gaming     youtube     netflix     social  totalAppData  Satisfaction  \n",
       "0  292426453.0  18355943.0  17855187.0  1570185.0    42818346.0  Second Class  \n",
       "1  609920783.0  39359124.0  35565545.0  1933278.0    80276150.0   First Class  \n",
       "2  229980251.0  34425237.0  23751202.0  1726277.0    71768682.0   First Class  \n",
       "3  810387875.0  36534765.0  15092588.0   657493.0    65510097.0   First Class  \n",
       "4  531237049.0  34222253.0  17539799.0   912788.0    61621244.0   First Class  \n",
       "5  723461512.0  23944031.0  13881809.0  3200014.0    53662383.0  Second Class  \n",
       "6   58881157.0   9120760.0  31212766.0  1624991.0    47331377.0  Second Class  \n",
       "7  765055811.0  31924969.0  18933702.0  3161403.0    58231488.0   First Class  \n",
       "8  828219634.0  29297508.0  19054441.0   372625.0    60634117.0   First Class  \n",
       "9  812946425.0  22911539.0  13185350.0  1585413.0    45641276.0  Second Class  "
      ]
     },
     "execution_count": 19,
     "metadata": {},
     "output_type": "execute_result"
    }
   ],
   "source": [
    "dataFrame=dataFrame.rename(columns = {'Total DL (Bytes)' : 'totalDL','Total UL (Bytes)' : 'totalUL','Dur. (ms)' : 'dur','MSISDN/Number':'msisdn','Last Location Name':'location','Handset Manufacturer':'manufacturer','Handset Type':'handset'})\n",
    "\n",
    "google = dataFrame['Google DL (Bytes)']+ dataFrame['Google UL (Bytes)']\n",
    "email = dataFrame['Email DL (Bytes)']+ dataFrame['Email UL (Bytes)']\n",
    "gaming = dataFrame['Gaming DL (Bytes)']+ dataFrame['Gaming UL (Bytes)']\n",
    "youtube = dataFrame['Youtube DL (Bytes)']+ dataFrame['Youtube UL (Bytes)']\n",
    "netflix = dataFrame['Netflix DL (Bytes)']+ dataFrame['Netflix UL (Bytes)']\n",
    "social = dataFrame['Social Media DL (Bytes)']+ dataFrame['Social Media UL (Bytes)']\n",
    "\n",
    "dataFrame['google']=google\n",
    "dataFrame['email']=email\n",
    "dataFrame['gaming']=gaming\n",
    "dataFrame['youtube']=youtube\n",
    "dataFrame['netflix']=netflix\n",
    "dataFrame['social']=social\n",
    "\n",
    "#print(relevantDataFrame.head())\n",
    "\n",
    "\n",
    "relevantDataFrame['Satisfaction'] = relevantDataFrame.apply(addSatisfactionLevel, axis=1)\n",
    "relevantDataFrame.head(10)"
   ]
  },
  {
   "cell_type": "markdown",
   "metadata": {},
   "source": [
    "## As we can see we have 4 Second Class and 6 First Class Entries for satisfaction. Lets check if we can get the same result after reducing the dimensionality."
   ]
  },
  {
   "cell_type": "code",
   "execution_count": 16,
   "metadata": {},
   "outputs": [
    {
     "name": "stdout",
     "output_type": "stream",
     "text": [
      "(106856, 5)\n"
     ]
    },
    {
     "data": {
      "text/plain": [
       "(106856, 2)"
      ]
     },
     "execution_count": 16,
     "metadata": {},
     "output_type": "execute_result"
    }
   ],
   "source": [
    "from sklearn.decomposition import PCA\n",
    "from sklearn.preprocessing import StandardScaler\n",
    "features = ['social', 'email','netflix','youtube', 'gaming']\n",
    "x=relevantDataFrame.groupby('msisdn').sum().loc[:, features].values\n",
    "pca = PCA(n_components=2)\n",
    "scaler=StandardScaler()\n",
    "scaler.fit(x)\n",
    "StandardScaler(copy=True, with_mean=True,with_std=True)\n",
    "scaled_data=scaler.transform(x)\n",
    "pca.fit(scaled_data)\n",
    "\n",
    "principalComponents = pca.fit_transform(scaled_data)\n",
    "principalDf = pd.DataFrame(data = principalComponents\n",
    "             , columns = ['principal component 1', 'principal component 2'])\n",
    "\n",
    "print(scaled_data.shape)\n",
    "principalComponents.shape\n"
   ]
  },
  {
   "cell_type": "markdown",
   "metadata": {},
   "source": [
    "### As shown above we have managed to reduce the dimensions from 5 down to 2 without losing too much information\n",
    "\n",
    "### Let us see if the reduced dataframe results in the same satisfaction level"
   ]
  },
  {
   "cell_type": "code",
   "execution_count": 17,
   "metadata": {},
   "outputs": [
    {
     "data": {
      "image/png": "[encoded data removed]",
      "text/plain": [
       "<Figure size 576x576 with 1 Axes>"
      ]
     },
     "metadata": {
      "needs_background": "light"
     },
     "output_type": "display_data"
    }
   ],
   "source": [
    "finalDf = pd.concat([principalDf, relevantDataFrame[['Satisfaction']]], axis = 1)\n",
    "fig = plt.figure(figsize = (8,8))\n",
    "ax = fig.add_subplot(1,1,1) \n",
    "ax.set_xlabel('Principal Component 1', fontsize = 15)\n",
    "ax.set_ylabel('Principal Component 2', fontsize = 15)\n",
    "ax.set_title('2 component PCA', fontsize = 20)\n",
    "targets = ['First Class', 'Second Class', 'N/A']\n",
    "colors = ['r', 'g', 'b']\n",
    "for target, color in zip(targets,colors):\n",
    "    indicesToKeep = finalDf['Satisfaction'] == target\n",
    "    ax.scatter(finalDf.head(10).loc[indicesToKeep, 'principal component 1']\n",
    "               , finalDf.head(10).loc[indicesToKeep, 'principal component 2']\n",
    "               , c = color\n",
    "               , s = 50)\n",
    "ax.legend(targets)\n",
    "ax.grid()\n"
   ]
  },
  {
   "cell_type": "markdown",
   "metadata": {},
   "source": [
    "## As we can see from the above plot we get the same result as before, even after reducing the diensinality."
   ]
  },
  {
   "cell_type": "code",
   "execution_count": null,
   "metadata": {},
   "outputs": [],
   "source": []
  }
 ],
 "metadata": {
  "kernelspec": {
   "display_name": "Python 3",
   "language": "python",
   "name": "python3"
  },
  "language_info": {
   "codemirror_mode": {
    "name": "ipython",
    "version": 3
   },
   "file_extension": ".py",
   "mimetype": "text/x-python",
   "name": "python",
   "nbconvert_exporter": "python",
   "pygments_lexer": "ipython3",
   "version": "3.7.6"
  }
 },
 "nbformat": 4,
 "nbformat_minor": 4
}
